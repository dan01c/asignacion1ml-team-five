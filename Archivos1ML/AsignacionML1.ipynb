{
 "cells": [
  {
   "cell_type": "markdown",
   "metadata": {},
   "source": [
    "# Asignación 1\n",
    "\n",
    "Todos los asignaciones serán presentadas utilizando los cuadernos de [Jupyter Notebook](http://jupyter.org/), además de respectivas pruebas como ejemplo, así como el uso de mediciones de velocidad de ejecución utilizando  el comando `timeit` y algunos gráficos si fuese necesario.\n",
    "\n",
    "Las referencias a los ejercicios son :\n",
    "\n",
    "* David Barber, [Bayesian Reasoning and Machine Learning](http://web4.cs.ucl.ac.uk/staff/D.Barber/pmwiki/pmwiki.php?n=Brml.Online),  Cambridge University Press, 2017.\n",
    "\n",
    "* Pattern Recognition and Machine Learning de Chris Bishop 2006.\n",
    "\n",
    "* Machine Learning Refined, Watt, Borhani, Katsaggelos 2016."
   ]
  },
  {
   "cell_type": "markdown",
   "metadata": {
    "collapsed": true
   },
   "source": [
    "## Lista de ejercicios"
   ]
  },
  {
   "cell_type": "markdown",
   "metadata": {},
   "source": [
    "1 . Imaginemos  que tenemos dos posibilidades: podemos escanear y enviar por correo electrónico una imagen, o podemos usar un lector óptico de caracteres (OCR) y enviar el archivo de texto. Discute las ventaja y las desventajas de los dos enfoques de manera comparativa. ¿Cuándo uno sería preferible al otro?."
   ]
  },
  {
   "cell_type": "code",
   "execution_count": 1,
   "metadata": {
    "collapsed": true
   },
   "outputs": [],
   "source": [
    "'''\n",
    "Una ventaja de usar OCR es el evitar la introducción manual (teclado) de texto logrando un aumento en la productividad y ahorro de recursos humanos.\n",
    "Una desventaja al usar OCR viene cuando tratamos imagenes con baja resolución [referencia paper ieee], los algoritmos de OCR no trabajan muy bien con este tipo de imagenes.\n",
    "'''"
   ]
  },
  {
   "cell_type": "markdown",
   "metadata": {},
   "source": [
    "2 .Digamos que estamos construyendo un OCR y para cada carácter, almacenamos el mapa de bits de ese carácter como una plantilla que coincida con el carácter de lectura píxel a píxel. Explica cuándo fallaría un sistema de este tipo. ¿Por qué se siguen utilizando los lectores de códigos de barras?"
   ]
  },
  {
   "cell_type": "code",
   "execution_count": 2,
   "metadata": {
    "collapsed": true
   },
   "outputs": [],
   "source": [
    "# Tu respuesta"
   ]
  },
  {
   "cell_type": "markdown",
   "metadata": {},
   "source": [
    "3 . Supongamos que se nos da la tarea de construir un sistema para distinguir correo basura. ¿Qué hay en un correo basura que nos permite saber que es basura? ¿Cómo puede la computadora detectar la basura mediante un análisis sintáctico? ¿Qué nos gustaría que hiciera la computadora si detecta un correo electrónico no deseado: eliminarlo automáticamente, moverlo a un archivo diferente o simplemente resaltarlo en la pantalla?"
   ]
  },
  {
   "cell_type": "code",
   "execution_count": 3,
   "metadata": {
    "collapsed": true
   },
   "outputs": [],
   "source": [
    "'''\n",
    "Un método para distinguir correo basura es usar el clasificador bayesiano.\n",
    "Ya que tenemos dos conjuntos (correos basura y los que no lo son) podemos buscar N palabras que ocurren con mayor frecuencia en los correos basura, y con el modelo Naive Bayes podemos especificar la distribución del número de ocurrencias. Luego detectando un correo basura, una buena alternativa es moverlo a un archivo diferente para luego ser clasificado por otros filtros ( como revisión humana).\n",
    "'''"
   ]
  },
  {
   "cell_type": "markdown",
   "metadata": {},
   "source": [
    "4 .Digamos que se nos da la tarea de construir un taxi automatizado. Define las restricciones. ¿Cuáles son las entradas? ¿Cuál es la salida? ¿Cómo podemos comunicarnos con el pasajero? ¿Necesitamos comunicarnos con los otros taxis automatizados, es decir, necesitamos un \"lenguaje\"?"
   ]
  },
  {
   "cell_type": "code",
   "execution_count": 4,
   "metadata": {
    "collapsed": true
   },
   "outputs": [],
   "source": [
    "# Tu respuesta"
   ]
  },
  {
   "cell_type": "markdown",
   "metadata": {},
   "source": [
    "5 .En el análisis de la cesta  de la compra, queremos encontrar la dependencia entre dos elementos X e Y. Dada una base de datos de transacciones de clientes, ¿cómo podemos encontrar estas dependencias? ¿Cómo generalizaríamos esto a más de dos ítems?"
   ]
  },
  {
   "cell_type": "code",
   "execution_count": 5,
   "metadata": {
    "collapsed": true
   },
   "outputs": [],
   "source": [
    "# Tu respuesta"
   ]
  },
  {
   "cell_type": "markdown",
   "metadata": {},
   "source": [
    "6 .En un periódico , encuentra cinco ejemplos de noticias para cada categoría de política, deportes y artes. Revisa estos informes y encuentra las palabras que se usan frecuentemente para cada categoría, lo que te puede ayudarle a discriminar entre diferentes categorías.\n",
    "\n",
    "Por ejemplo, es probable que un reportaje sobre política incluya palabras como *gobierno*, *recesión*, *congreso*, etc., mientras que un reportaje sobre las artes puede incluir *álbum*, *lienzo* o *teatro* . También hay palabras como *meta* que son ambiguas."
   ]
  },
  {
   "cell_type": "code",
   "execution_count": 6,
   "metadata": {
    "collapsed": true
   },
   "outputs": [],
   "source": [
    "# Tu respuesta"
   ]
  },
  {
   "cell_type": "markdown",
   "metadata": {},
   "source": [
    "7 . Sea  una imagen de rostro es una imagen 100 x 100, o un vector de 10.000 dimensiones. Si cambiamos la imagen de un píxel a la derecha, este será un vector muy diferente en el espacio de 10.000 dimensiones. ¿Cómo podemos construir reconocedores faciales que manejen a tales distorsiones?"
   ]
  },
  {
   "cell_type": "code",
   "execution_count": 7,
   "metadata": {
    "collapsed": true
   },
   "outputs": [],
   "source": [
    "# Tu respuesta"
   ]
  },
  {
   "cell_type": "markdown",
   "metadata": {},
   "source": [
    "8 . Tomemos, por ejemplo, la palabra \"máquina\". Escríbela diez veces. También pide a un amigo de tu equipo que escriba la palabra  diez veces. Analizando estas veinte imágenes, trata de encontrar características, tipos de trazos, curvaturas, bucles, cómo hacer los puntos y así sucesivamente, que discriminan su escritura a mano de la de su amigo."
   ]
  },
  {
   "cell_type": "code",
   "execution_count": 8,
   "metadata": {
    "collapsed": true
   },
   "outputs": [],
   "source": [
    "# Tu respuesta"
   ]
  },
  {
   "cell_type": "markdown",
   "metadata": {},
   "source": [
    "9 .Al estimar el precio de un automóvil usado, tiene más sentido estimar el porcentaje de depreciación sobre el precio original que estimar el precio absoluto. ¿Por qué?"
   ]
  },
  {
   "cell_type": "code",
   "execution_count": 9,
   "metadata": {
    "collapsed": true
   },
   "outputs": [],
   "source": [
    "# Tu respuesta"
   ]
  },
  {
   "cell_type": "markdown",
   "metadata": {},
   "source": [
    "10 .Los investigadores de ML a menudo prueban sus algoritmos usando dominios públicos de referencia. Un gran repositorio de tales dominios se puede encontrar en la siguiente dirección: [www.ics.uci.edu/~mlearn/MLRepository.html](www.ics.uci.edu/~mlearn/MLRepository.html). Echa un vistazo a estos datos y ver cómo difieren en el número de atributos, tipos de atributos, tamaños y así sucesivamente."
   ]
  },
  {
   "cell_type": "markdown",
   "metadata": {},
   "source": [
    "11 . Escribe un programa  que usará la fórmula de Bayes para calcular las probabilidades de clase en un dominio donde todos los atributos son discretos."
   ]
  },
  {
   "cell_type": "markdown",
   "metadata": {},
   "source": [
    "12 .¿Cómo calcularías las probabilidades de las clases de salida en un dominio donde algunos atributos son booleanos, otros discretos y otros continuos? Discute las posibilidades de combinar diferentes enfoques. Para el caso de atributos continuos, escribe un programa  que acepte los ejemplos de entrenamiento en la forma de una tabla por ejemplo.\n",
    "\n",
    "Aplica este programa a unos pocos dominios de referencia del repositorio UCI (escoja de aquellos donde todos los atributos son continuos) y observe que el programa tiene éxito en algunos dominios mejor que en otros."
   ]
  },
  {
   "cell_type": "code",
   "execution_count": 10,
   "metadata": {
    "collapsed": true
   },
   "outputs": [],
   "source": [
    "# Tu codigo"
   ]
  },
  {
   "cell_type": "markdown",
   "metadata": {},
   "source": [
    "13 .Ajuste un modelo lineal al conjunto de datos de deuda de préstamos estudiantiles de los Estados Unidos  llamado `student_debt_data.csv`, resolviendo el problema de mínimos cuadrados de regresión lineal asociado. Si esta tendencia lineal continua, ¿cuál será la deuda total del estudiante en el año 2050?"
   ]
  },
  {
   "cell_type": "code",
   "execution_count": 15,
   "metadata": {
    "collapsed": true
   },
   "outputs": [],
   "source": [
    "# Tu codigo"
   ]
  },
  {
   "cell_type": "markdown",
   "metadata": {},
   "source": [
    "14 . La función de costo de mínimos cuadrados para una regresión lineal se puede escribir de manera compacta como:\n",
    "\n",
    "$$\n",
    "g(\\hat{w}) = \\sum_{p =1}^{P}\\biggl(\\hat{x}_p^T\\hat{w} - y_p \\biggr)^2,\n",
    "$$\n",
    "\n",
    "es una función cuadrática convexa. "
   ]
  },
  {
   "cell_type": "code",
   "execution_count": 17,
   "metadata": {
    "collapsed": true
   },
   "outputs": [],
   "source": [
    "# Tu respuesta"
   ]
  },
  {
   "cell_type": "markdown",
   "metadata": {},
   "source": [
    "15 (Watt-Borhani-Katsaggelos). Gordon Moore, cofundador de la corporación Intel, predijo en un artículo de 1965, que el número de transistores en un circuito integrado se duplicaría aproximadamente cada dos años. Esta conjetura, referida en la actualidad como la ley de Moore, ha demostrado ser lo suficientemente precisa en las últimas cinco décadas.\n",
    "\n",
    "Dado que el poder de procesamiento de las computadoras está directamente relacionado con el número de transistores en sus CPU, la ley de Moore proporciona un modelo de tendencia para predecir el poder de cálculo de futuros microprocesadores.\n",
    "\n",
    "La Figura siguiente muestra los recuentos de transistores de varios microprocesadores en comparación con el año en que fueron liberados, comenzando desde Intel 4004 en 1971 con sólo 2300 transistores, hasta el Xeon E7 de Intel, introducido en 2014 con más de 4.300 millones de transistores.\n",
    "\n",
    "![](Moore-Law.png)\n",
    "\n",
    "\n",
    "* Propone una transformación de base exponencial basada en la ley de Moore, mostrada en la figura anteior , de modo que los datos de entrada y salida transformados estén relacionados linealmente.\n",
    "\n",
    "* Formula y minimice una función de costo de mínimos cuadrados para pesos apropiados y ajuste su modelo a los datos en el espacio de datos original. Los datos mostrados aquí se encuentran en el archivo `transistor_counts.csv`."
   ]
  },
  {
   "cell_type": "code",
   "execution_count": 18,
   "metadata": {
    "collapsed": true
   },
   "outputs": [],
   "source": [
    "# Tu codigo"
   ]
  },
  {
   "cell_type": "markdown",
   "metadata": {},
   "source": [
    "16 .(Bishop). Dado un conjunto de puntos $\\{x_n\\}$, podemos definir la cápsula convexa como el conjunto de todos los puntos:\n",
    "\n",
    "$$\n",
    "x = \\sum_{n}\\alpha_nx_n\n",
    "$$\n",
    "\n",
    "donde $\\alpha_n \\geq 0$ y $\\sum_{n}\\alpha_n = 1$. Consideremos un segundo conjunto de puntos $\\{y_n \\}$ junto con su correspondiente cápsula convexa. Por definición los dos conjuntos de puntos son linealmente separables si existe un vector $\\hat{w}$ y un escalar $w_0$ tal que $\\hat{w}^Tx_n + w_0 > 0$ para todo $x_n$ y $\\hat{w}^Ty_n + w_0 < 0$ para todo $y_n$.\n",
    "\n",
    "\n",
    "Demuestre que si sus cápsulas convexas se intersecan, los dos conjuntos de puntos no pueden ser linealmente separables, y viceversa que si son linealmente separables, sus cápsulas convexas no se cruzan."
   ]
  },
  {
   "cell_type": "code",
   "execution_count": 11,
   "metadata": {
    "collapsed": true
   },
   "outputs": [],
   "source": [
    "# Tu respuesta"
   ]
  },
  {
   "cell_type": "markdown",
   "metadata": {},
   "source": [
    "17 .\n",
    "\n",
    "* Proporciona un ejemplo de un conjunto de datos bidimensional para el cual los datos son linealmente separables, pero no linealmente independientes.\n",
    " linealmente independiente.\n",
    "    \n",
    "* ¿Puedes encontrar un conjunto de datos que sea linealmente independiente pero no linealmente separable?."
   ]
  },
  {
   "cell_type": "code",
   "execution_count": 12,
   "metadata": {
    "collapsed": true
   },
   "outputs": [],
   "source": [
    "# Tu respuesta"
   ]
  },
  {
   "cell_type": "markdown",
   "metadata": {},
   "source": [
    "18 . Demuestra que para la regresión de mínimos cuadrados ordinarios y ortogonales  ajustados a los datos $(x_n, y_n), n = 1, \\dots, N$ las líneas ajustadas  pasan por el punto $\\sum_{n =1}^{N}(x_n, y_n)/N$."
   ]
  },
  {
   "cell_type": "code",
   "execution_count": 13,
   "metadata": {
    "collapsed": true
   },
   "outputs": [],
   "source": [
    "# Tu respuesta"
   ]
  },
  {
   "cell_type": "markdown",
   "metadata": {},
   "source": [
    "19 . Proporciona un reporte del manejo que hace scikit learn acerca de los modelos de regresión lineal: http://scikit-learn.org/stable/modules/generated/sklearn.linear_model.LinearRegression.html. Muestra ejemplos.\n"
   ]
  },
  {
   "cell_type": "code",
   "execution_count": 14,
   "metadata": {
    "collapsed": true
   },
   "outputs": [],
   "source": [
    "# Tu reporte"
   ]
  },
  {
   "cell_type": "code",
   "execution_count": null,
   "metadata": {
    "collapsed": true
   },
   "outputs": [],
   "source": []
  }
 ],
 "metadata": {
  "kernelspec": {
   "display_name": "Python 3",
   "language": "python",
   "name": "python3"
  },
  "language_info": {
   "codemirror_mode": {
    "name": "ipython",
    "version": 3
   },
   "file_extension": ".py",
   "mimetype": "text/x-python",
   "name": "python",
   "nbconvert_exporter": "python",
   "pygments_lexer": "ipython3",
   "version": "3.6.1"
  }
 },
 "nbformat": 4,
 "nbformat_minor": 2
}
